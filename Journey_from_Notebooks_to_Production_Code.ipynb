{
 "cells": [
  {
   "cell_type": "markdown",
   "metadata": {},
   "source": [
    "# Step 1: Create basic skeleton using Jupyter notebooks(beginner, intermediate)"
   ]
  },
  {
   "cell_type": "markdown",
   "metadata": {},
   "source": [
    "### Let us consider a sample notebooks"
   ]
  },
  {
   "cell_type": "code",
   "execution_count": 22,
   "metadata": {},
   "outputs": [],
   "source": [
    "import numpy as np\n",
    "import pandas as pd\n",
    "import matplotlib.pyplot as plt\n",
    "%matplotlib inline"
   ]
  },
  {
   "cell_type": "code",
   "execution_count": 23,
   "metadata": {},
   "outputs": [],
   "source": [
    "np_rand = np.random.randn(100)"
   ]
  },
  {
   "cell_type": "code",
   "execution_count": 24,
   "metadata": {},
   "outputs": [
    {
     "data": {
      "text/plain": [
       "array([ 2.97078826,  1.22804791, -0.08514518, -0.318716  ,  0.24985125,\n",
       "       -1.8183529 ,  0.50652401,  0.79698879, -1.34050246,  1.10016752,\n",
       "        0.57769073, -0.52432087, -0.33126234, -0.20890192, -0.54062055,\n",
       "       -0.56153651,  0.51084652, -1.93866244, -0.82902019,  0.79116932,\n",
       "        1.57750075,  0.1893993 ,  0.69856089, -2.30214334, -0.05522251,\n",
       "        0.65709573,  0.40576796, -0.06471856, -0.61992378,  0.94070724,\n",
       "        0.96769829, -0.73183371, -0.92310399,  0.18700878, -0.93919124,\n",
       "       -0.21809999,  0.40513926, -0.96292451,  0.47293589,  0.18568836,\n",
       "        0.7400884 , -1.46357582, -2.58255173, -0.31691226,  0.59608017,\n",
       "        0.803503  , -0.20542673, -1.02525591,  0.72978675, -0.70685622,\n",
       "        0.9721826 ,  0.09733088,  0.70057503,  0.76677032,  0.17511774,\n",
       "        0.07923471,  0.31345185,  1.58314912, -0.34127788, -1.2827659 ,\n",
       "        0.61471153,  0.35281097,  0.25107077, -0.5111738 , -1.5058536 ,\n",
       "        0.43997996, -1.19452602,  0.8911775 ,  1.58142063,  0.45305393,\n",
       "       -1.96941161,  2.79501647,  0.03848241, -2.34617314, -0.48467543,\n",
       "       -1.06013263,  0.76389831, -0.27183601, -0.32258214,  0.11497726,\n",
       "        0.38478677,  0.40559833, -0.8115976 ,  0.12344512,  1.08957214,\n",
       "       -2.33649332, -0.5421897 ,  0.81071334, -1.33743522, -1.52896378,\n",
       "       -0.8394202 ,  1.46858051,  1.14431194, -0.35064068,  1.07468464,\n",
       "       -1.45450499,  0.6760968 , -0.84770186,  0.38304072, -1.05472835])"
      ]
     },
     "execution_count": 24,
     "metadata": {},
     "output_type": "execute_result"
    }
   ],
   "source": [
    "np_rand"
   ]
  },
  {
   "cell_type": "code",
   "execution_count": 25,
   "metadata": {},
   "outputs": [],
   "source": [
    "np_randn_df = pd.Series(np_rand)"
   ]
  },
  {
   "cell_type": "code",
   "execution_count": 26,
   "metadata": {},
   "outputs": [
    {
     "data": {
      "text/plain": [
       "<matplotlib.axes._subplots.AxesSubplot at 0x145597a8dd8>"
      ]
     },
     "execution_count": 26,
     "metadata": {},
     "output_type": "execute_result"
    },
    {
     "data": {
      "image/png": "[encoded data removed]",
      "text/plain": [
       "<Figure size 432x288 with 1 Axes>"
      ]
     },
     "metadata": {
      "needs_background": "light"
     },
     "output_type": "display_data"
    }
   ],
   "source": [
    "np_randn_df.hist()"
   ]
  },
  {
   "cell_type": "code",
   "execution_count": 27,
   "metadata": {},
   "outputs": [
    {
     "name": "stdout",
     "output_type": "stream",
     "text": [
      "-0.051745881840715796\n",
      "1.040415644150141\n"
     ]
    }
   ],
   "source": [
    "print(np_rand.mean())\n",
    "print(np_rand.std())\n",
    "\n"
   ]
  },
  {
   "cell_type": "markdown",
   "metadata": {},
   "source": [
    "# If you are an intermediate -advanced coder we can use an IDE for coding jupyter notebooks\n",
    "\n",
    "### I suggest VSCode\n",
    "\n",
    "#### Here we shift to Modular programming, let us check how it is done  "
   ]
  },
  {
   "cell_type": "markdown",
   "metadata": {},
   "source": [
    "###### Here we need to convert all the code to different functions and place them in modules"
   ]
  },
  {
   "cell_type": "markdown",
   "metadata": {},
   "source": [
    "#### Module 1 . Find the histogram "
   ]
  },
  {
   "cell_type": "code",
   "execution_count": 28,
   "metadata": {},
   "outputs": [],
   "source": [
    "def histogram(series):\n",
    "    series.hist()"
   ]
  },
  {
   "cell_type": "markdown",
   "metadata": {},
   "source": [
    "#### Module 2. Find the mean and standard deviation"
   ]
  },
  {
   "cell_type": "code",
   "execution_count": 29,
   "metadata": {},
   "outputs": [],
   "source": [
    "def find_mean_and_std(random_list):\n",
    "    return random_list.mean(),random_list.std()\n",
    "\n"
   ]
  },
  {
   "cell_type": "markdown",
   "metadata": {},
   "source": [
    "#### Place these functions as different modules such as histogram.py and find_mean_and_std.py\n",
    "\n",
    "##### Import these modules whenever necessary\n",
    "\n",
    "##### eg if the modules are placed in the same folder as the notebook\n",
    "\n",
    "##### import histogram as hist\n",
    "##### import find_mean_and_std as find_mean_std\n",
    "\n",
    "\n",
    "\n",
    "#### if modules are placed in a folder called modules and jupyter notebook outside it\n",
    "\n",
    "###### import modules.histogram as hist\n",
    "###### import modules.find_mean_and_std  as find_mean_std"
   ]
  },
  {
   "cell_type": "code",
   "execution_count": 30,
   "metadata": {},
   "outputs": [],
   "source": [
    "# import histogram as hist\n",
    "# import find_mean_and_std as find_mean_std"
   ]
  },
  {
   "cell_type": "code",
   "execution_count": null,
   "metadata": {},
   "outputs": [],
   "source": []
  },
  {
   "cell_type": "code",
   "execution_count": null,
   "metadata": {},
   "outputs": [],
   "source": []
  },
  {
   "cell_type": "markdown",
   "metadata": {},
   "source": [
    "### The best way so far \n",
    "\n",
    "##### Use cookie cutter Data science to create a Data Science Project Folder\n",
    "\n",
    "##### Please follow the following to install cookiecutter and download the project structure"
   ]
  },
  {
   "cell_type": "code",
   "execution_count": null,
   "metadata": {},
   "outputs": [],
   "source": []
  },
  {
   "cell_type": "code",
   "execution_count": 31,
   "metadata": {},
   "outputs": [],
   "source": [
    "#!pip install cookiecutter\n",
    "\n",
    "#cookiecutter https://github.com/drivendata/cookiecutter-data-science"
   ]
  },
  {
   "cell_type": "markdown",
   "metadata": {},
   "source": [
    "├── LICENSE\n",
    "\n",
    "├── Makefile           <- Makefile with commands like `make data` or `make train`\n",
    "\n",
    "├── README.md          <- The top-level README for developers using this project.\n",
    "\n",
    "├── data\n",
    "│   ├── external       <- Data from third party sources.\n",
    "│   ├── interim        <- Intermediate data that has been transformed.\n",
    "│   ├── processed      <- The final, canonical data sets for modeling.\n",
    "│   └── raw            <- The original, immutable data dump.\n",
    "│\n",
    "\n",
    "├── docs               <- A default Sphinx project; see sphinx-doc.org for details\n",
    "│\n",
    "\n",
    "├── models             <- Trained and serialized models, model predictions, or model summaries\n",
    "│\n",
    "\n",
    "├── notebooks          <- Jupyter notebooks. Naming convention is a number (for ordering),\n",
    "\n",
    "the creator's initials, and a short `-` delimited description, e.g.\n",
    "│                         `1.0-jqp-initial-data-exploration`.\n",
    "│\n",
    "\n",
    "├── references         <- Data dictionaries, manuals, and all other explanatory materials.\n",
    "│\n",
    "\n",
    "├── reports            <- Generated analysis as HTML, PDF, LaTeX, etc.\n",
    "│   └── figures        <- Generated graphics and figures to be used in reporting\n",
    "│\n",
    "\n",
    "├── requirements.txt   <- The requirements file for reproducing the analysis environment, e.g.\n",
    "│                         generated with `pip freeze > requirements.txt`\n",
    "│\n",
    "\n",
    "├── setup.py           <- Make this project pip installable with `pip install -e`\n",
    "\n",
    "├── src  <- Source code for use in this project.\n",
    "\n",
    "│   ├── __init__.py    <- Makes src a Python module\n",
    "│   │\n",
    "\n",
    "│   ├── data           <- Scripts to download or generate data\n",
    "│   │   └── make_dataset.py\n",
    "│   │\n",
    "\n",
    "│   ├── features       <- Scripts to turn raw data into features for modeling\n",
    "│   │   └── build_features.py\n",
    "│   │\n",
    "\n",
    "│   ├── models         <- Scripts to train models and then use trained models to make\n",
    "│   │   │                 predictions\n",
    "│   │   ├── predict_model.py\n",
    "│   │   └── train_model.py\n",
    "│   │\n",
    "\n",
    "│   └── visualization  <- Scripts to create exploratory and results oriented visualizations\n",
    "│       └── visualize.py\n",
    "│\n",
    "\n",
    "└── tox.ini            <- tox file with settings for running tox; see tox.readthedocs.io"
   ]
  },
  {
   "cell_type": "code",
   "execution_count": 32,
   "metadata": {},
   "outputs": [],
   "source": [
    "#Courtesty : #https://drivendata.github.io/cookiecutter-data-science/\n"
   ]
  }
 ],
 "metadata": {
  "kernelspec": {
   "display_name": "Python 3",
   "language": "python",
   "name": "python3"
  },
  "language_info": {
   "codemirror_mode": {
    "name": "ipython",
    "version": 3
   },
   "file_extension": ".py",
   "mimetype": "text/x-python",
   "name": "python",
   "nbconvert_exporter": "python",
   "pygments_lexer": "ipython3",
   "version": "3.7.3"
  }
 },
 "nbformat": 4,
 "nbformat_minor": 2
}
